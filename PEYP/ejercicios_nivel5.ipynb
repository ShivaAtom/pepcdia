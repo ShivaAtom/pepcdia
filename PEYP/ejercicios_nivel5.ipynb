{
 "cells": [
  {
   "metadata": {},
   "cell_type": "raw",
   "source": [
    "# Nivel 5 — Avanzado — Inferencia Bayesiana y métodos computacionales (MCMC)\n",
    "# 30 ejercicios prácticos (cada comentario es un ejercicio; copia/pega en tu notebook)\n",
    "#"
   ],
   "id": "4c9ba3916ee053d"
  },
  {
   "metadata": {},
   "cell_type": "raw",
   "source": [
    "# Ejercicio 01:\n",
    "#   Explica con tus palabras qué son prior, verosimilitud y posterior. Simula un ejemplo simple (Bernoulli) y calcula la posterior analítica con una beta prior."
   ],
   "id": "1962141363690396"
  },
  {
   "metadata": {},
   "cell_type": "raw",
   "source": [
    "# Ejercicio 02:\n",
    "#   Usando 'nivel5_dataset.csv', calcula la distribución prior predictiva para una variable de conteo (por ejemplo purchases) asumiendo una Poisson con prior Gamma para lambda. Muestra la dispersión del prior."
   ],
   "id": "eb5394a3922324e"
  },
  {
   "metadata": {},
   "cell_type": "raw",
   "source": [
    "# Ejercicio 03:\n",
    "#   Realiza un prior predictive check: define priors débiles y fuertes para un modelo simple (y ~ Normal(mu, sigma)) y simula observaciones del prior. Compara con los datos."
   ],
   "id": "f07e2a12ecca3c7b"
  },
  {
   "metadata": {},
   "cell_type": "raw",
   "source": [
    "# Ejercicio 04:\n",
    "#   Implementa en PyMC (o NumPyro) un modelo Bayesiano simple: y ~ Normal(mu, sigma) con priors para mu y sigma. Corre NUTS para obtener muestras y grafica traceplots con ArViz."
   ],
   "id": "ad4d797e0e13974"
  },
  {
   "metadata": {},
   "cell_type": "raw",
   "source": [
    "# Ejercicio 05:\n",
    "#   Realiza diagnósticos MCMC para las cadenas del ejercicio anterior: calcula R-hat, ESS y autocorrelación. Comenta qué indican las métricas."
   ],
   "id": "ced5322389191f6b"
  },
  {
   "metadata": {},
   "cell_type": "raw",
   "source": [
    "# Ejercicio 06:\n",
    "#   Implementa Metropolis-Hastings para muestrear la posterior de un parámetro escalar (ej: mu en Normal) y compara velocidad/convergencia con NUTS para el mismo modelo."
   ],
   "id": "e015534ce94bdce3"
  },
  {
   "metadata": {},
   "cell_type": "raw",
   "source": [
    "# Ejercicio 07:\n",
    "#   Ajusta un modelo de regresión lineal Bayesiano (y ~ Normal(X beta, sigma)) en PyMC o Stan. Reporta posterior de betas, IC posterior y haz posterior predictive checks (PPC)."
   ],
   "id": "8b3abac8d12d4519"
  },
  {
   "metadata": {},
   "cell_type": "raw",
   "source": [
    "# Ejercicio 08:\n",
    "#   Haz un sensitivity analysis de priors: repite el ejercicio 7 con 3 conjuntos de priors (informativos, débiles, no informativos) y compara posteriors."
   ],
   "id": "c8e524642c303eb8"
  },
  {
   "metadata": {},
   "cell_type": "raw",
   "source": [
    "# Ejercicio 09:\n",
    "#   Implementa reparameterización no centrada (non-centered parameterization) para un modelo jerárquico simple y compara mixing/convergencia con la parametrización centrada."
   ],
   "id": "108b81dd03c390f2"
  },
  {
   "metadata": {},
   "cell_type": "raw",
   "source": [
    "# Ejercicio 10:\n",
    "#   Ajusta un modelo jerárquico (multinivel) para 'purchase_amount' con grupos (group_id) y efectos aleatorios en la intercept y slope. Usa PyMC/Stan/NumPyro."
   ],
   "id": "853f001749be9ce3"
  },
  {
   "metadata": {},
   "cell_type": "raw",
   "source": [
    "# Ejercicio 11:\n",
    "#   Extrae y grafica los efectos aleatorios por grupo (posterior distributions) y compara con estimadores por grupo vía OLS por grupo (empirical Bayes vs full Bayes)."
   ],
   "id": "3b8e11a10015ab28"
  },
  {
   "metadata": {},
   "cell_type": "raw",
   "source": [
    "# Ejercicio 12:\n",
    "#   Implementa posterior predictive checks gráficas: overlay de histogramas, scatter de cuantiles observados vs simulados, y PPC para estadísticas resumen (media, max)."
   ],
   "id": "560a34c5fa9dc884"
  },
  {
   "metadata": {},
   "cell_type": "raw",
   "source": [
    "# Ejercicio 13:\n",
    "#   Calcula y compara criterios de comparación de modelos: WAIC y LOO (ArViz) para 3 modelos candidatos (por ejemplo: intercepto solo, intercepto+X, jerárquico)."
   ],
   "id": "f444e889772d75c5"
  },
  {
   "metadata": {},
   "cell_type": "raw",
   "source": [
    "# Ejercicio 14:\n",
    "#   Implementa bridge sampling o marginal likelihood estimation para comparar modelos por Bayes factors (si la librería lo permite). Compara con WAIC/LOO."
   ],
   "id": "e8c1354298572afa"
  },
  {
   "metadata": {},
   "cell_type": "raw",
   "source": [
    "# Ejercicio 15:\n",
    "#   Ajusta un modelo Bayesiano para datos de conteo con overdispersion usando NegBin (Negative Binomial) y compara con Poisson; reporta posterior de parámetro de dispersión."
   ],
   "id": "f89f843802564011"
  },
  {
   "metadata": {},
   "cell_type": "raw",
   "source": [
    "# Ejercicio 16:\n",
    "#   Implementa un modelo logístico Bayesiano (Bernoulli) para predecir 'converted' con priors adecuados. Muestra odds ratios posteriori y sus IC."
   ],
   "id": "aad978e84ae87c4f"
  },
  {
   "metadata": {},
   "cell_type": "raw",
   "source": [
    "# Ejercicio 17:\n",
    "#   Realiza MCMC convergence diagnostics avanzados: compara resultados entre múltiples cadenas, calcula R-hat de Gelman y ESS por parámetro; interpreta problemas y soluciones."
   ],
   "id": "bce6bb11be2ee4ba"
  },
  {
   "metadata": {},
   "cell_type": "raw",
   "source": [
    "# Ejercicio 18:\n",
    "#   Implementa y evalúa Variational Inference (ADVI / SVI) para uno de los modelos anteriores. Compara tiempo de ajuste y aproximación posterior con MCMC."
   ],
   "id": "b68a1336adbfcd6d"
  },
  {
   "metadata": {},
   "cell_type": "raw",
   "source": [
    "# Ejercicio 19:\n",
    "#   Realiza inferencia bayesiana en modelos binomiales con datos agrupados (por ejemplo conversiones por día y por campaña) y usa pooling parcial (hierarchical Beta-Binomial)."
   ],
   "id": "33fcbfa8ad504eab"
  },
  {
   "metadata": {},
   "cell_type": "raw",
   "source": [
    "# Ejercicio 20:\n",
    "#   Implementa modelo de estados latentes sencillo: un modelo de mezcla (mixture model) de dos normales para 'purchase_amount' y realiza inferencia Bayesiana (etiquetado probabilístico)."
   ],
   "id": "aa4cdbc10d183950"
  },
  {
   "metadata": {},
   "cell_type": "raw",
   "source": [
    "# Ejercicio 21:\n",
    "#   Emplea calibración y validación Bayesiana: posterior predictive p-values, PIT (probability integral transform) y gráficas de calibración para un modelo de conteo."
   ],
   "id": "be9ac354c5f098da"
  },
  {
   "metadata": {},
   "cell_type": "raw",
   "source": [
    "# Ejercicio 22:\n",
    "#   Calcula intervalos de predicción posterior (predictive intervals) para nuevas observaciones y compara con intervalos frecuentistas (si aplica)."
   ],
   "id": "ad7901a15653dadf"
  },
  {
   "metadata": {},
   "cell_type": "raw",
   "source": [
    "# Ejercicio 23:\n",
    "#   Implementa MCMC paralelo (multiproceso) y guarda cadenas en disco; luego usa ArViz para combinar y analizar las cadenas."
   ],
   "id": "f0f525307cdb797b"
  },
  {
   "metadata": {},
   "cell_type": "raw",
   "source": [
    "# Ejercicio 24:\n",
    "#   Implementa un GP Bayesiano sencillo (Gaussian Process) para regresión no paramétrica en una variable y ~ f(x). Ajusta kernel RBF y muestra predicciones y incertidumbre."
   ],
   "id": "aaf9a38f76afa4"
  },
  {
   "metadata": {},
   "cell_type": "raw",
   "source": [
    "# Ejercicio 25:\n",
    "#   Ajusta un modelo jerárquico con covariables a nivel grupo (group-level predictors) y evalúa cómo cambian los efectos aleatorios al incluir dichas covariables."
   ],
   "id": "3ac71036cb556e8e"
  },
  {
   "metadata": {},
   "cell_type": "raw",
   "source": [
    "# Ejercicio 26:\n",
    "#   Implementa posterior summarization: calcula medias, medianas, credibles 90% y 95% para parámetros y presenta en una tabla legible (pandas DataFrame)."
   ],
   "id": "56565c6213aa1a85"
  },
  {
   "metadata": {},
   "cell_type": "raw",
   "source": [
    "# Ejercicio 27:\n",
    "#   Implementa un experimento de remuestreo posterior (posterior predictive checking extendido): simula datasets desde la posterior y calcula la distribución de una estadística de interés (ej: número de usuarios con purchase_amount>500). Estima prob."
   ],
   "id": "a4f801797fe121c1"
  },
  {
   "metadata": {},
   "cell_type": "raw",
   "source": [
    "# Ejercicio 28:\n",
    "#   Implementa control de semillas reproducibles para todo el pipeline Bayesiano (pystan/pyMC/NumPyro) y documenta cómo reproducir exactamente el análisis."
   ],
   "id": "e47ce0be3fce9bd1"
  },
  {
   "metadata": {},
   "cell_type": "raw",
   "source": [
    "# Ejercicio 29:\n",
    "#   Ajusta un modelo Bayesian Cox (o modelo de supervivencia Bayesiano) básico para tiempos hasta evento si hay columnas de censoring; si no, simula datos y ajusta."
   ],
   "id": "14c379296bb4c296"
  },
  {
   "metadata": {},
   "cell_type": "raw",
   "source": [
    "# Ejercicio 30:\n",
    "#   Usa probabilistic programming en Stan (pystan/cmdstanpy) o NumPyro para ajustar un modelo complejo (jerárquico + mezcla) y compara tiempos y eficiencia entre frameworks."
   ],
   "id": "a0880b5597069fe1"
  },
  {
   "metadata": {},
   "cell_type": "raw",
   "source": [
    "# Ejercicio 31 (Integrador — abarca subtemas del Nivel 5 y niveles anteriores):\n",
    "#   Usando 'nivel5_dataset.csv':\n",
    "#     - Define una pregunta de negocio que requiera inferencia Bayesiana (ej: estimar variabilidad entre tiendas en la conversión y predecir prob. de alcanzar target).\n",
    "#     - Ajusta al menos 3 modelos: (a) modelo frecuente clásico (GLM), (b) modelo Bayesiano no jerárquico, (c) modelo Bayesiano jerárquico con efectos por store_id.\n",
    "#     - Realiza prior predictive checks, posterior sampling (NUTS), diagnósticos (R-hat, ESS), posterior predictive checks y cálculo de WAIC/LOO.\n",
    "#     - Realiza comparación de modelos y justifica la elección final; reporta probabilidades predictivas de alcanzar un objetivo por store con intervalos.\n",
    "#     - Implementa un análisis de sensibilidad a priors y un bootstrap/posterior en paralelo para comparar incertidumbres.\n",
    "#     - Documenta todo en Markdown con interpretación en lenguaje coloquial y guarda scripts, modelos y resultados.\n",
    "#\n",
    "# NOTA: Para todos los ejercicios Bayesianos donde se pide usar PyMC/Stan/NumPyro, si no tienes alguna librería instalada, indícalo en un comentario y muestra el comando pip/conda para instalar (no ejecutes instalaciones automáticamente)."
   ],
   "id": "630d935bd0c72299"
  },
  {
   "metadata": {},
   "cell_type": "markdown",
   "source": [
    "# Plantilla: guía Bayesiana y MCMC (Nivel 5)\n",
    "Pega el enunciado y recibirás una guía en 5 puntos sobre priors, posterior y MCMC.\n",
    "\n",
    "Prompt (reemplaza [ENUNCIADO]):\n",
    "\"Hola, te paso este ejercicio: [ENUNCIADO]. Necesito:\n",
    "1) Conceptos Bayesianos/MCMC relevantes.\n",
    "2) Funciones/librerías clave (pm.Model, sample, arviz, numpyro...).\n",
    "3) Fórmulas importantes (posterior, likelihood, R-hat, ESS) explicadas sin cálculos.\n",
    "4) Mini‑ejemplo aclaratorio diferente.\n",
    "5) Pasos prácticos sugeridos para implementarlo.\"\n",
    "\n",
    "Si falta alguna librería, indicar el comando pip/conda en un comentario (sin ejecutar).\n"
   ],
   "id": "711025948572c7a9"
  }
 ],
 "metadata": {
  "kernelspec": {
   "display_name": "Python 3",
   "language": "python",
   "name": "python3"
  },
  "language_info": {
   "codemirror_mode": {
    "name": "ipython",
    "version": 2
   },
   "file_extension": ".py",
   "mimetype": "text/x-python",
   "name": "python",
   "nbconvert_exporter": "python",
   "pygments_lexer": "ipython2",
   "version": "2.7.6"
  }
 },
 "nbformat": 4,
 "nbformat_minor": 5
}
