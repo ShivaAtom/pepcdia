{
 "cells": [
  {
   "metadata": {},
   "cell_type": "code",
   "outputs": [],
   "execution_count": null,
   "source": [
    "# Ejercicio 01:\n",
    "# Crea variables de distintos tipos (int, float, str, bool) y luego imprime sus tipos con type()."
   ],
   "id": "edd31aa6fb88c3ef"
  },
  {
   "metadata": {},
   "cell_type": "code",
   "outputs": [],
   "execution_count": null,
   "source": [
    "# Ejercicio 02:\n",
    "# Crea una lista, una tupla, un set y un dict con datos de ejemplo; añade y elimina elementos en cada estructura."
   ],
   "id": "406f919a1440c0ac"
  },
  {
   "metadata": {},
   "cell_type": "code",
   "outputs": [],
   "execution_count": null,
   "source": [
    "# Ejercicio 03:\n",
    "# Escribe un bloque if/elif/else que clasifique un número (positivo, negativo, cero). Pruébalo con varios valores."
   ],
   "id": "edc97c97cd8f7751"
  },
  {
   "metadata": {},
   "cell_type": "code",
   "outputs": [],
   "execution_count": null,
   "source": [
    "# Ejercicio 04:\n",
    "# Escribe un bucle for que recorra una lista de nombres y los imprima con su índice (usa enumerate)."
   ],
   "id": "55aa2e5d86365d9f"
  },
  {
   "metadata": {},
   "cell_type": "code",
   "outputs": [],
   "execution_count": null,
   "source": [
    "# Ejercicio 05:\n",
    "# Escribe un bucle while que sume números hasta que la suma supere 100; imprime la cantidad de iteraciones."
   ],
   "id": "edbb728f8e27a0f"
  },
  {
   "metadata": {},
   "cell_type": "code",
   "outputs": [],
   "execution_count": null,
   "source": [
    "# Ejercicio 06:\n",
    "# Define una función que reciba una lista de números y devuelva la media. Añade manejo de errores (try/except) para entradas inválidas."
   ],
   "id": "67f6509d13f823ed"
  },
  {
   "metadata": {},
   "cell_type": "code",
   "outputs": [],
   "execution_count": null,
   "source": [
    "# Ejercicio 07:\n",
    "# Crea una lambda que calcule el cuadrado de un número y úsala con map() sobre una lista."
   ],
   "id": "91118eb2538c638a"
  },
  {
   "metadata": {},
   "cell_type": "code",
   "outputs": [],
   "execution_count": null,
   "source": [
    "# Ejercicio 08:\n",
    "# Escribe una list comprehension para generar los cuadrados de los números pares entre 0 y 20. Luego crea un generator que haga lo mismo perezosamente."
   ],
   "id": "d2a160acaac9f3fd"
  },
  {
   "metadata": {},
   "cell_type": "code",
   "outputs": [],
   "execution_count": null,
   "source": [
    "# Ejercicio 09:\n",
    "# Genera una lista de 10 números aleatorios usando el módulo random y establece la semilla para que sea reproducible."
   ],
   "id": "b175cf8ebe45e3ee"
  },
  {
   "metadata": {},
   "cell_type": "code",
   "outputs": [],
   "execution_count": null,
   "source": [
    "# Ejercicio 10:\n",
    "# Crea un diccionario con información de una persona (nombre, edad, ciudad). Serialízalo a JSON (usa json.dumps) y vuélvelo a leer (json.loads)."
   ],
   "id": "c4b8bd33bf94b662"
  },
  {
   "metadata": {},
   "cell_type": "code",
   "outputs": [],
   "execution_count": null,
   "source": [
    "# Ejercicio 11:\n",
    "# Crea un entorno virtual (indícalo en un comentario: comando para crear con venv o conda) y genera un archivo requirements.txt con las dependencias básicas (numpy,pandas,seaborn)."
   ],
   "id": "750d65e09d00ea45"
  },
  {
   "metadata": {},
   "cell_type": "code",
   "outputs": [],
   "execution_count": null,
   "source": [
    "# Ejercicio 12:\n",
    "# Abre un Jupyter Notebook y crea una celda Markdown con título y descripción de tu análisis; exporta el notebook a script (.py) desde la UI o con nbconvert."
   ],
   "id": "7535222ea5d80b29"
  },
  {
   "metadata": {},
   "cell_type": "code",
   "outputs": [],
   "execution_count": null,
   "source": [
    "# Ejercicio 13:\n",
    "# Importa numpy como np. Crea un array 1D a partir de una lista y muestra su shape, dtype y operaciones básicas (suma, media)."
   ],
   "id": "b820799e1d1abd2e"
  },
  {
   "metadata": {},
   "cell_type": "code",
   "outputs": [],
   "execution_count": null,
   "source": [
    "# Ejercicio 14:\n",
    "# Crea un array numpy 2D (matriz), calcula su transpuesta, multiplica por un vector (dot) y aplica broadcasting para sumar un vector a cada fila."
   ],
   "id": "cfb5d9073979820f"
  },
  {
   "metadata": {},
   "cell_type": "code",
   "outputs": [],
   "execution_count": null,
   "source": [
    "# Ejercicio 15:\n",
    "# Genera una muestra aleatoria normal con numpy (n=1000, media=50, sd=10). Calcula media y desviación estándar muestral."
   ],
   "id": "1c2a2060a8b4d179"
  },
  {
   "metadata": {},
   "cell_type": "code",
   "outputs": [],
   "execution_count": null,
   "source": [
    "# Ejercicio 16:\n",
    "# Importa pandas como pd. Lee el archivo 'nivel1_dataset.csv' (proporcionado) con pd.read_csv() y muestra head(), info() y describe()."
   ],
   "id": "7a39bfcd80808a49"
  },
  {
   "metadata": {},
   "cell_type": "code",
   "outputs": [],
   "execution_count": null,
   "source": [
    "# Ejercicio 17:\n",
    "# En el DataFrame leído, selecciona las columnas 'age' y 'income'; calcula su media, mediana y conteo de valores no nulos."
   ],
   "id": "27f8cad2d393f7f2"
  },
  {
   "metadata": {},
   "cell_type": "code",
   "outputs": [],
   "execution_count": null,
   "source": [
    "# Ejercicio 18:\n",
    "# Limpieza simple: detecta filas con valores faltantes en 'rating' y rellénalas con la mediana. Luego elimina duplicados por la columna 'id' si existieran."
   ],
   "id": "c0297163eab91603"
  },
  {
   "metadata": {},
   "cell_type": "code",
   "outputs": [],
   "execution_count": null,
   "source": [
    "# Ejercicio 19:\n",
    "# Agrupa el DataFrame por 'product_category' y calcula la media de 'purchase_amount' y el conteo de usuarios por categoría (groupby + agg)."
   ],
   "id": "3cb97e8d3a91c89c"
  },
  {
   "metadata": {},
   "cell_type": "code",
   "outputs": [],
   "execution_count": null,
   "source": [
    "# Ejercicio 20:\n",
    "# Crea una nueva columna 'income_bucket' que clasifique 'income' en bandas (bajo/medio/alto) usando pd.cut()."
   ],
   "id": "70619cb22e73bdb"
  },
  {
   "metadata": {},
   "cell_type": "code",
   "outputs": [],
   "execution_count": null,
   "source": [
    "# Ejercicio 21:\n",
    "# Haz un merge (join) simulado: crea otro DataFrame pequeño con columnas (id, loyalty_score) y únelo con el principal por 'id' (left join)."
   ],
   "id": "26abdebf5565fe1"
  },
  {
   "metadata": {},
   "cell_type": "code",
   "outputs": [],
   "execution_count": null,
   "source": [
    "# Ejercicio 22:\n",
    "# Usa matplotlib/seaborn para dibujar: histograma de 'age', boxplot de 'purchase_amount' por 'product_category' y scatter entre 'visits' y 'purchase_amount'."
   ],
   "id": "f6ff6ae872c0ea51"
  },
  {
   "metadata": {},
   "cell_type": "code",
   "outputs": [],
   "execution_count": null,
   "source": [
    "# Ejercicio 23:\n",
    "# Crea un pairplot de un subconjunto numérico del DataFrame (age, income, visits, purchase_amount) con seaborn.pairplot()."
   ],
   "id": "8e2c4d181058ea5e"
  },
  {
   "metadata": {},
   "cell_type": "code",
   "outputs": [],
   "execution_count": null,
   "source": [
    "# Ejercicio 24:\n",
    "# Usa scipy.stats para calcular la PDF y CDF de una distribución normal con media y sd dadas; evalúa la CDF en un valor (no hagas tests de hipótesis aún)."
   ],
   "id": "fc91aa7a55ac4516"
  },
  {
   "metadata": {},
   "cell_type": "code",
   "outputs": [],
   "execution_count": null,
   "source": [
    "# Ejercicio 25:\n",
    "# Ajusta una regresión lineal simple con statsmodels: predict 'purchase_amount' a partir de 'visits' (agrega constante con sm.add_constant)."
   ],
   "id": "be9668e008fc5bea"
  },
  {
   "metadata": {},
   "cell_type": "code",
   "outputs": [],
   "execution_count": null,
   "source": [
    "# Ejercicio 26:\n",
    "# Usa scikit-learn para hacer un train_test_split (70/30) con una variable objetivo binaria creada (is_active). Muestra tamaños de los sets."
   ],
   "id": "fd4e75fd25907464"
  },
  {
   "metadata": {},
   "cell_type": "code",
   "outputs": [],
   "execution_count": null,
   "source": [
    "# Ejercicio 27:\n",
    "# Estandariza (StandardScaler) una columna numérica ('income') y compara su media/desviación antes y después."
   ],
   "id": "29f982faa8d9699f"
  },
  {
   "metadata": {},
   "cell_type": "code",
   "outputs": [],
   "execution_count": null,
   "source": [
    "# Ejercicio 28:\n",
    "# Guarda una porción del DataFrame limpio como parquet y como CSV comprimido (.csv.gz). Luego lee ambos archivos para verificar que se leen bien."
   ],
   "id": "e7fd66a4e200734"
  },
  {
   "metadata": {},
   "cell_type": "code",
   "outputs": [],
   "execution_count": null,
   "source": [
    "# Ejercicio 29:\n",
    "# Documenta tu notebook: añade al menos 3 celdas Markdown explicando los pasos, y crea un celda final que resuma conclusiones breves (bullet points)."
   ],
   "id": "161fe545e7e5dc75"
  },
  {
   "metadata": {},
   "cell_type": "code",
   "outputs": [],
   "execution_count": null,
   "source": [
    "# Ejercicio 30:\n",
    "# Control de versiones básico: en un comentario, escribe los comandos git para inicializar un repo, añadir archivos y hacer un commit con mensaje \"nivel1: ejercicios\"."
   ],
   "id": "784337e3cf1e35f1"
  },
  {
   "metadata": {},
   "cell_type": "code",
   "outputs": [],
   "execution_count": null,
   "source": [
    "# Ejercicio 31 (Integrador — abarca todos los subtemas anteriores):\n",
    "# Usando 'nivel1_dataset.csv':\n",
    "# - Carga el conjunto de datos.\n",
    "# - Haz limpieza básica (nulos, duplicados).\n",
    "# - Crea al menos dos nuevas columnas derivadas (por ejemplo: gasto por visita, bucket de edad).\n",
    "# - Realiza EDA con 3 gráficas (histograma, boxplot por categoría, scatter).\n",
    "# - Ajusta una regresión simple con statsmodels entre visitas y gasto.\n",
    "# - Guarda el DataFrame final en CSV y parquet.\n",
    "# - Documenta todo en celdas Markdown y prepara un requirements.txt con las librerías usadas."
   ],
   "id": "29db496a1419eebe"
  },
  {
   "metadata": {
    "SqlCellData": {
     "variableName$1": "df_sql1"
    }
   },
   "cell_type": "markdown",
   "source": [
    "# Plantilla: guía rápida para pedir explicación (Nivel 1)\n",
    "Breve: pega el enunciado del ejercicio y recibirás una respuesta estructurada en 5 puntos, en español coloquial.\n",
    "\n",
    "Formato a pegar (reemplaza [ENUNCIADO]):\n",
    "\"Hola, te paso este ejercicio: [ENUNCIADO]. Quiero:\n",
    "1) Conceptos clave necesarios (definición breve).\n",
    "2) Funciones/librerías útiles en Python (nombre y uso rápido).\n",
    "3) Fórmulas o métricas implicadas (qué representa cada símbolo; sin cálculos).\n",
    "4) Mini‑ejemplo distinto que ilustre la idea (muy breve).\n",
    "5) Pasos prácticos sugeridos para implementarlo (sin código final).\"\n",
    "\n",
    "Ejemplo de uso:\n",
    "- Sustituye [ENUNCIADO] y envía. Responderé con la estructura indicada.\n"
   ],
   "id": "6d95b44bb4f4dbb"
  }
 ],
 "metadata": {
  "kernelspec": {
   "display_name": "Python 3",
   "language": "python",
   "name": "python3"
  },
  "language_info": {
   "codemirror_mode": {
    "name": "ipython",
    "version": 2
   },
   "file_extension": ".py",
   "mimetype": "text/x-python",
   "name": "python",
   "nbconvert_exporter": "python",
   "pygments_lexer": "ipython2",
   "version": "2.7.6"
  }
 },
 "nbformat": 4,
 "nbformat_minor": 5
}
