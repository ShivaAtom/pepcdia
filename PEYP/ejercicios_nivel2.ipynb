{
 "cells": [
  {
   "metadata": {},
   "cell_type": "raw",
   "source": [
    "# Ejercicio 01\n",
    "Define el espacio muestral para lanzar 2 monedas y escribe la lista de todos los posibles resultados."
   ],
   "id": "fd41b7630f839853"
  },
  {
   "metadata": {},
   "cell_type": "raw",
   "source": [
    "# Ejercicio 02\n",
    "Con el dataset 'nivel2_dataset.csv', calcula la probabilidad empírica de que un usuario haya usado cupón (coupon_used == True)."
   ],
   "id": "dca073c363997183"
  },
  {
   "metadata": {},
   "cell_type": "raw",
   "source": [
    "# Ejercicio 03\n",
    "Calcula la probabilidad condicional P(converted = 1 | coupon_used = True) usando el dataset."
   ],
   "id": "b07cb685128fb54e"
  },
  {
   "metadata": {},
   "cell_type": "raw",
   "source": [
    "# Ejercicio 04\n",
    "Plantea dos eventos A y B con columnas del dataset (por ejemplo A: product_category == 'A', B: converted == 1).\n",
    "Calcula P(A), P(B), P(A ∩ B) y verifica si A y B son independientes empíricamente."
   ],
   "id": "84d2aaa48f490394"
  },
  {
   "metadata": {},
   "cell_type": "raw",
   "source": [
    "# Ejercicio 05\n",
    "Resuelve un problema de combinatoria: ¿De cuántas formas diferentes se pueden escoger 3 usuarios de un grupo de 12?\n",
    "Usa math.comb y comprueba manualmente."
   ],
   "id": "31b642be56fe6949"
  },
  {
   "metadata": {},
   "cell_type": "raw",
   "source": [
    "# Ejercicio 06\n",
    "Calcula permutaciones: ¿Cuántas formas de ordenar 4 productos distintos hay? Usa math.perm o factorial."
   ],
   "id": "697e128a64faaa2b"
  },
  {
   "metadata": {},
   "cell_type": "raw",
   "source": [
    "# Ejercicio 07\n",
    "Considera una Bernoulli con p = probabilidad de conversión empírica del dataset. Genera 1000 simulaciones Bernoulli y calcula la proporción de éxitos."
   ],
   "id": "c7ed7e595ad114c2"
  },
  {
   "metadata": {},
   "cell_type": "raw",
   "source": [
    "# Ejercicio 08\n",
    "Ajusta una distribución binomial: si seleccionas 10 usuarios al azar, ¿cuál es la probabilidad de obtener exactamente 3 conversiones?\n",
    "Usa scipy.stats.binom.pmf."
   ],
   "id": "1eaad28283a49e9"
  },
  {
   "metadata": {},
   "cell_type": "raw",
   "source": [
    "# Ejercicio 09\n",
    "Supón que los clicks por sesión siguen una Poisson. Estima la lambda empírica con la media de 'event_clicks' y calcula P(X >= 5)."
   ],
   "id": "da069759b79706fa"
  },
  {
   "metadata": {},
   "cell_type": "raw",
   "source": [
    "# Ejercicio 10\n",
    "Genera una muestra normal con numpy con la media y desviación estándar de 'session_time_minutes' y grafica su histograma junto a la KDE."
   ],
   "id": "bda65e983d8ae1a6"
  },
  {
   "metadata": {},
   "cell_type": "raw",
   "source": [
    "# Ejercicio 11\n",
    "Calcula y compara media, mediana y moda (si existe) de 'total_spent' en el dataset. Usa scipy.stats.mode para la moda."
   ],
   "id": "aa0612266ce3bfa7"
  },
  {
   "metadata": {},
   "cell_type": "raw",
   "source": [
    "# Ejercicio 12\n",
    "Calcula varianza y desviación estándar muestral y poblacional de 'purchases_count' (usa ddof=0 y ddof=1) y comenta la diferencia."
   ],
   "id": "da03426f41c6a1d7"
  },
  {
   "metadata": {},
   "cell_type": "raw",
   "source": [
    "# Ejercicio 13\n",
    "Calcula percentiles 25, 50, 75 de 'age' y calcula el IQR. Identifica outliers por el criterio 1.5*IQR."
   ],
   "id": "5a0f4a4dc9046899"
  },
  {
   "metadata": {},
   "cell_type": "raw",
   "source": [
    "# Ejercicio 14\n",
    "Calcula momentos: media (1er momento), varianza (2º central), asimetría (skew) y curtosis (kurtosis) de 'total_spent' con scipy.stats."
   ],
   "id": "e4f91784de91c6f5"
  },
  {
   "metadata": {},
   "cell_type": "raw",
   "source": [
    "# Ejercicio 15\n",
    "Crea un gráfico de caja (boxplot) de 'total_spent' por 'product_category' y comenta diferencias entre categorías."
   ],
   "id": "a96239cd091c9e3d"
  },
  {
   "metadata": {},
   "cell_type": "raw",
   "source": [
    "# Ejercicio 16\n",
    "Crea un gráfico de barras con la frecuencia absoluta y relativa de 'product_category' y añade porcentajes en las barras."
   ],
   "id": "5edc74d6f557e844"
  },
  {
   "metadata": {},
   "cell_type": "raw",
   "source": [
    "# Ejercicio 17\n",
    "Calcula la distribución empírica (PMF) de 'purchases_count' (conteos) y grafícala como barras."
   ],
   "id": "53d3971bca891126"
  },
  {
   "metadata": {},
   "cell_type": "raw",
   "source": [
    "# Ejercicio 18\n",
    "Estima la CDF empírica de 'event_clicks' y grafícala (función escalonada)."
   ],
   "id": "6155dc268a772785"
  },
  {
   "metadata": {},
   "cell_type": "raw",
   "source": [
    "# Ejercicio 19\n",
    "Usando bootstrap (resampling con reemplazo, 1000 réplicas), estima el intervalo bootstrap para la media de 'total_spent' (percentiles 2.5 y 97.5)."
   ],
   "id": "79c3ede625e3baec"
  },
  {
   "metadata": {},
   "cell_type": "raw",
   "source": [
    "# Ejercicio 20\n",
    "Demuestra la Ley de los Grandes Números: toma muestras crecientes de conversiones simuladas (usando p empírico) y grafica la media muestral vs tamaño de muestra."
   ],
   "id": "10b0f4fe6e7ca9a6"
  },
  {
   "metadata": {},
   "cell_type": "raw",
   "source": [
    "# Ejercicio 21\n",
    "Demuestra el Teorema del Límite Central: suma (o promedio) de 30 variables iid no necesariamente normales (por ejemplo expo) y compara la distribución de las medias con la normal."
   ],
   "id": "5754a037b10478b4"
  },
  {
   "metadata": {},
   "cell_type": "raw",
   "source": [
    "# Ejercicio 22\n",
    "Calcula la correlación (Pearson) entre 'session_time_minutes' y 'event_clicks'; luego calcula la correlación de Spearman y comenta diferencias."
   ],
   "id": "3cf3607d97ebfa90"
  },
  {
   "metadata": {},
   "cell_type": "raw",
   "source": [
    "# Ejercicio 23\n",
    "Crea una tabla de contingencia (cross-tab) entre 'coupon_used' y 'converted'. Calcula la proporción de conversión en cada celda."
   ],
   "id": "6f00e4498465d22a"
  },
  {
   "metadata": {},
   "cell_type": "raw",
   "source": [
    "# Ejercicio 24\n",
    "Realiza una simulación Monte Carlo simple: estima por simulación la probabilidad de que, al elegir 5 usuarios al azar, al menos 2 hayan usado cupón."
   ],
   "id": "f6acd340b5d2199b"
  },
  {
   "metadata": {},
   "cell_type": "raw",
   "source": [
    "# Ejercicio 25\n",
    "Para una variable continua (por ejemplo 'total_spent'), ajusta y muestra la PDF teórica normal con los parámetros empíricos sobre el histograma de los datos."
   ],
   "id": "1cf7ecc83e46a735"
  },
  {
   "metadata": {},
   "cell_type": "raw",
   "source": [
    "# Ejercicio 26\n",
    "Calcula la entropía empírica de la variable categórica 'product_category' (usa scipy.stats.entropy sobre la distribución de frecuencias)."
   ],
   "id": "1ed5ee0f8b43e4e5"
  },
  {
   "metadata": {},
   "cell_type": "raw",
   "source": [
    "# Ejercicio 27\n",
    "Implementa una función que, dada una muestra (lista de números), devuelva: media, mediana, moda (si hay), varianza, desviación estándar y coeficiente de variación."
   ],
   "id": "1cc425ff9fab1aab"
  },
  {
   "metadata": {},
   "cell_type": "raw",
   "source": [
    "# Ejercicio 28\n",
    "Divide aleatoriamente el dataset en 3 subconjuntos (60%, 20%, 20%) y compara estadísticas descriptivas (media, sd) de 'total_spent' entre los tres."
   ],
   "id": "e1718abbb489555d"
  },
  {
   "metadata": {},
   "cell_type": "raw",
   "source": [
    "# Ejercicio 29\n",
    "Crea variables discretas a partir de continuas: binariza 'age' en joven/adulto/senior usando pd.cut() y compara la distribución de conversiones por grupo."
   ],
   "id": "b834995018d1d17f"
  },
  {
   "metadata": {},
   "cell_type": "raw",
   "source": [
    "# Ejercicio 30\n",
    "Escribe un pequeño informe en Markdown (en tu notebook) con 5 puntos que resuman los hallazgos descriptivos del dataset (medias, outliers, correlaciones)."
   ],
   "id": "a1eb69736d79a00f"
  },
  {
   "metadata": {},
   "cell_type": "raw",
   "source": [
    "# Ejercicio 31 (Integrador)\n",
    "Usando 'nivel2_dataset.csv':\n",
    "- Define eventos y espacio muestral relevantes (mínimo 3 eventos) y calcula sus probabilidades y dependencias.\n",
    "- Realiza EDA completo: estadísticas descriptivas, histogramas, boxplots por categoría, tabla de contingencia y correlaciones.\n",
    "- Ajusta y compara una distribución teórica (por ejemplo Poisson o Normal) con los datos correspondientes y explica por qué encaja (o no).\n",
    "- Realiza una simulación Monte Carlo que responda una pregunta de negocio (ej: probabilidad de que al seleccionar 8 usuarios haya ≥3 conversiones).\n",
    "- Haz bootstrap para la media de 'total_spent' y reporta el intervalo 95% bootstrap.\n",
    "- Documenta y resume resultados en Markdown.\n"
   ],
   "id": "b4a14833dc308879"
  },
  {
   "metadata": {},
   "cell_type": "markdown",
   "source": [
    "# Plantilla: explicación breve (Nivel 2)\n",
    "Pega el enunciado y obtén una guía en 5 puntos, enfocada en probabilidad y estadística descriptiva.\n",
    "\n",
    "Usa este prompt (reemplaza [ENUNCIADO]):\n",
    "\"Hola, te paso este ejercicio: [ENUNCIADO]. Quiero:\n",
    "1) Conceptos estadísticos relevantes (qué y cuándo usarlos).\n",
    "2) Funciones/librerías Python útiles (nombre y breve uso).\n",
    "3) Fórmulas implicadas explicadas (símbolos; sin resolver).\n",
    "4) Mini‑ejemplo distinto que aclare el concepto.\n",
    "5) Pasos breves para implementarlo.\"\n",
    "\n",
    "No pido solución completa ni código final; la respuesta será guía práctica.\n"
   ],
   "id": "e0daf45bf993fa45"
  }
 ],
 "metadata": {
  "kernelspec": {
   "display_name": "Python 3",
   "language": "python",
   "name": "python3"
  },
  "language_info": {
   "codemirror_mode": {
    "name": "ipython",
    "version": 2
   },
   "file_extension": ".py",
   "mimetype": "text/x-python",
   "name": "python",
   "nbconvert_exporter": "python",
   "pygments_lexer": "ipython2",
   "version": "2.7.6"
  }
 },
 "nbformat": 4,
 "nbformat_minor": 5
}
