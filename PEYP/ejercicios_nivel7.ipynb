{
 "cells": [
  {
   "metadata": {},
   "cell_type": "code",
   "outputs": [],
   "execution_count": null,
   "source": [
    "# Nivel 7 — Experto — Teoría avanzada y temas de investigación aplicada\n",
    "# 30 ejercicios prácticos (cada comentario es un ejercicio; copia/pega en tu notebook)\n",
    "#"
   ],
   "id": "e62931f41cd8a5af"
  },
  {
   "metadata": {},
   "cell_type": "code",
   "outputs": [],
   "execution_count": null,
   "source": [
    "# Ejercicio 01:\n",
    "#   Simula trayectorias de movimiento Browniano geométrico (GBM) para un activo: dS_t = mu S_t dt + sigma S_t dW_t.\n",
    "#   Grafica varias trayectorias y estima por simulación la probabilidad de que S_T > H para distintos H y T."
   ],
   "id": "51dd834bab1aba16"
  },
  {
   "metadata": {},
   "cell_type": "code",
   "outputs": [],
   "execution_count": null,
   "source": [
    "# Ejercicio 02:\n",
    "#   Simula una ecuación diferencial estocástica con drift no lineal: dX_t = (a - b X_t) dt + sigma dW_t (Ornstein-Uhlenbeck).\n",
    "#   Estima la media y varianza a largo plazo y compara con valores teóricos."
   ],
   "id": "59240894b3c46023"
  },
  {
   "metadata": {},
   "cell_type": "code",
   "outputs": [],
   "execution_count": null,
   "source": [
    "# Ejercicio 03:\n",
    "#   Simula y estima parámetros de un proceso de Poisson con saltos compuestos (compound Poisson) donde los tamaños de salto son Pareto (cola pesada).\n",
    "#   Estima la probabilidad de que la suma de saltos en T supere un umbral grande."
   ],
   "id": "7121dab0feec75f5"
  },
  {
   "metadata": {},
   "cell_type": "code",
   "outputs": [],
   "execution_count": null,
   "source": [
    "# Ejercicio 04:\n",
    "#   Implementa y prueba el estimador de Hill para estimar el índice de cola (tail index) de la columna 'heavy_tail' del dataset.\n",
    "#   Realiza un gráfico de la curva de Hill para distintos k y comenta estabilidad."
   ],
   "id": "3f3d17633b7a5898"
  },
  {
   "metadata": {},
   "cell_type": "code",
   "outputs": [],
   "execution_count": null,
   "source": [
    "# Ejercicio 05:\n",
    "#   Ajusta un modelo de valores extremos por el método \"Peaks Over Threshold\" (POT): selecciona un umbral u, ajusta GPD a excedentes y calcula VaR y ES a 99% para la variable 'return'."
   ],
   "id": "c9054af28bfb84a0"
  },
  {
   "metadata": {},
   "cell_type": "code",
   "outputs": [],
   "execution_count": null,
   "source": [
    "# Ejercicio 06:\n",
    "#   Ajusta la familia de máximos (block maxima) a la serie de 'return' por bloques mensuales y ajusta un GEV; compara resultados con POT."
   ],
   "id": "3b5a7516c74f5666"
  },
  {
   "metadata": {},
   "cell_type": "code",
   "outputs": [],
   "execution_count": null,
   "source": [
    "# Ejercicio 07:\n",
    "#   Estima colas multivariantes: toma dos variables (return, volume) y usa copulas (Clayton o Gumbel) para modelar dependencia en colas; ajusta parámetros y muestra simulaciones conjuntas."
   ],
   "id": "c7bb62f61fdde1ce"
  },
  {
   "metadata": {},
   "cell_type": "code",
   "outputs": [],
   "execution_count": null,
   "source": [
    "# Ejercicio 08:\n",
    "#   Implementa una prueba de bondad de ajuste para colas: compara la cola empírica con la cola paretiana ajustada mediante QQ plot para los extremos."
   ],
   "id": "599470f7cf008939"
  },
  {
   "metadata": {},
   "cell_type": "code",
   "outputs": [],
   "execution_count": null,
   "source": [
    "# Ejercicio 09:\n",
    "#   Ajusta un modelo de cola condicional: modela la probabilidad de evento extremo en T condicionado en una covariable (feature1) mediante un GLM logit sobre indicadores extremos."
   ],
   "id": "13a93494dd4c3685"
  },
  {
   "metadata": {},
   "cell_type": "code",
   "outputs": [],
   "execution_count": null,
   "source": [
    "# Ejercicio 10:\n",
    "#   Implementa teoría de colas (queueing M/M/1): simula llegadas y servicios, estima tiempo medio en sistema, probabilidad de bloqueo y compara con fórmulas teóricas."
   ],
   "id": "6592aed915c733be"
  },
  {
   "metadata": {},
   "cell_type": "code",
   "outputs": [],
   "execution_count": null,
   "source": [
    "# Ejercicio 11:\n",
    "#   Implementa un estimador para tiempos de primera llegada (hitting time) en una cadena de Markov continua/discreta y compara con simulación Monte Carlo."
   ],
   "id": "ddb3a7468275cdaa"
  },
  {
   "metadata": {},
   "cell_type": "code",
   "outputs": [],
   "execution_count": null,
   "source": [
    "# Ejercicio 12:\n",
    "#   Usa el dataset para estimar una matriz de covarianza robusta (M-estimator o mínimo absoluto) y compara con la covarianza clásica; comenta implicaciones para PCA en presencia de outliers."
   ],
   "id": "fe9f6a32802fd1c1"
  },
  {
   "metadata": {},
   "cell_type": "code",
   "outputs": [],
   "execution_count": null,
   "source": [
    "# Ejercicio 13:\n",
    "#   Realiza PCA en alta dimensión (p cercano o mayor que n usando features feature1..feature8). Aplica regularización y calcula componentes principales esparsos (SPCA)."
   ],
   "id": "98b9f11ac2752738"
  },
  {
   "metadata": {},
   "cell_type": "code",
   "outputs": [],
   "execution_count": null,
   "source": [
    "# Ejercicio 14:\n",
    "#   Implementa Lasso / Elastic Net para selección en p >> n (simula más features si hace falta). Evalúa estabilidad de selección mediante subsampling (stability selection)."
   ],
   "id": "3b3515027d3da7d2"
  },
  {
   "metadata": {},
   "cell_type": "code",
   "outputs": [],
   "execution_count": null,
   "source": [
    "# Ejercicio 15:\n",
    "#   Investiga inferencia post‑selección: ajusta Lasso, selecciona variables y luego estima intervalos de confianza \"post-selection\" (p. ej. mediante desparsified Lasso) para coeficientes seleccionados."
   ],
   "id": "9d6ff93a619ea4a8"
  },
  {
   "metadata": {},
   "cell_type": "code",
   "outputs": [],
   "execution_count": null,
   "source": [
    "# Ejercicio 16:\n",
    "#   Control de pruebas múltiples: realiza 100 tests (simulados o reales) y aplica Bonferroni, Holm y Benjamini–Hochberg (FDR). Compara número de rechazos y discute trade-offs."
   ],
   "id": "c37a2375aeea0465"
  },
  {
   "metadata": {},
   "cell_type": "code",
   "outputs": [],
   "execution_count": null,
   "source": [
    "# Ejercicio 17:\n",
    "#   Implementa y compara procedimientos dependientes para FDR (Benjamini–Yekutieli) en presencia de correlación entre tests (simula correlación estructurada)."
   ],
   "id": "8201d44d5552e58c"
  },
  {
   "metadata": {},
   "cell_type": "code",
   "outputs": [],
   "execution_count": null,
   "source": [
    "# Ejercicio 18:\n",
    "#   Ajusta un Gaussian Process (GP) con kernel compuesto (RBF + Periodic + WhiteNoise) para una serie temporal (price). Estima hyperparámetros por maximización de marginal likelihood y muestra predicción con incertidumbre."
   ],
   "id": "5b9efdfbfa8af7fa"
  },
  {
   "metadata": {},
   "cell_type": "code",
   "outputs": [],
   "execution_count": null,
   "source": [
    "# Ejercicio 19:\n",
    "#   Implementa Sparse Variational GP (SVGP) usando inducing points (GPyTorch/GPflow or sklearn-like approximations) y compara tiempo/memoria y precisión con GP completo en el dataset."
   ],
   "id": "d3daa9dec5088d3a"
  },
  {
   "metadata": {},
   "cell_type": "code",
   "outputs": [],
   "execution_count": null,
   "source": [
    "# Ejercicio 20:\n",
    "#   Ajusta Gaussian Process en dimensión alta (p>10) utilizando kernels separables y ARD (automatic relevance determination). Interpreta longitudes de escala por dimensión."
   ],
   "id": "9b12ad55271660cb"
  },
  {
   "metadata": {},
   "cell_type": "code",
   "outputs": [],
   "execution_count": null,
   "source": [
    "# Ejercicio 21:\n",
    "#   Implementa Deep Gaussian Process (DGP) sencillo (2 capas) con una librería o mediante aproximación variacional; muestra ejemplos de predicción y dificultad de inferencia."
   ],
   "id": "7c03538bf2620bd3"
  },
  {
   "metadata": {},
   "cell_type": "code",
   "outputs": [],
   "execution_count": null,
   "source": [
    "# Ejercicio 22:\n",
    "#   Causal inference — Diseña un estudio de tipo Difference-in-Differences (DiD) usando columnas temporales del dataset (pre/post un cambio de política) y estima efecto promedio del tratamiento."
   ],
   "id": "ae5d03ee98be3780"
  },
  {
   "metadata": {},
   "cell_type": "code",
   "outputs": [],
   "execution_count": null,
   "source": [
    "# Ejercicio 23:\n",
    "#   Causal inference — Implementa y compara propensity score matching y weighting (IPTW) para estimar efecto de 'treatment' en 'outcome'; balancea covariables y reporta balance diagnostics (std. mean differences)."
   ],
   "id": "c399fdd6ee0537a1"
  },
  {
   "metadata": {},
   "cell_type": "code",
   "outputs": [],
   "execution_count": null,
   "source": [
    "# Ejercicio 24:\n",
    "#   Causal inference — Implementa un análisis con Instrumental Variables (IV): simula un instrumento válido z que afecta treatment pero no outcome directamente; estima 2SLS y discute supuestos."
   ],
   "id": "d7e899fa6caaf4a5"
  },
  {
   "metadata": {},
   "cell_type": "code",
   "outputs": [],
   "execution_count": null,
   "source": [
    "# Ejercicio 25:\n",
    "#   Causal inference — Implementa g-computation o TMLE (si conoces librerías, usa zepid/DoWhy/causalml) en un ejemplo simulado donde hay confounding no-lineal; compara estimadores."
   ],
   "id": "75a581c0e15abeea"
  },
  {
   "metadata": {},
   "cell_type": "code",
   "outputs": [],
   "execution_count": null,
   "source": [
    "# Ejercicio 26:\n",
    "#   Implementa y entrena un Variational Autoencoder (VAE) para modelar la distribución conjunta de un subconjunto de features numéricos. Visualiza el espacio latente y genera ejemplos nuevos."
   ],
   "id": "921f782cfa7b55c4"
  },
  {
   "metadata": {},
   "cell_type": "code",
   "outputs": [],
   "execution_count": null,
   "source": [
    "# Ejercicio 27:\n",
    "#   Implementa Normalizing Flows (RealNVP o Masked Autoregressive Flow) en PyTorch o TensorFlow para modelar la distribución de 'heavy_tail' y compara con un ajuste paramétrico GPD."
   ],
   "id": "4c5fcefb97648736"
  },
  {
   "metadata": {},
   "cell_type": "code",
   "outputs": [],
   "execution_count": null,
   "source": [
    "# Ejercicio 28:\n",
    "#   Implementa Bayesian Neural Network (BNN) o Monte Carlo Dropout para cuantificar incertidumbre en predicción de 'outcome'. Evalúa calibración de incertidumbre (reliability diagrams)."
   ],
   "id": "616f65a8dab7408d"
  },
  {
   "metadata": {},
   "cell_type": "code",
   "outputs": [],
   "execution_count": null,
   "source": [
    "# Ejercicio 29:\n",
    "#   Implementa métodos de optimización avanzados para estimación (ADMM o proximal methods) en un problema de regularización con constraints (por ejemplo, optimizar Lasso con restricciones lineales)."
   ],
   "id": "610c88f093401cba"
  },
  {
   "metadata": {},
   "cell_type": "code",
   "outputs": [],
   "execution_count": null,
   "source": [
    "# Ejercicio 30:\n",
    "#   Escalado y deployment: diseña y prototipa un pipeline reproducible para entrenamiento y scoring a gran escala (data ingestion, batch training, model store, inferencia en streaming). Describe componentes y trade-offs (caching, checkpointing, monitorización)."
   ],
   "id": "b5b309332e587773"
  },
  {
   "metadata": {},
   "cell_type": "code",
   "outputs": [],
   "execution_count": null,
   "source": [
    "# Ejercicio 31 (Integrador — abarca subtemas del Nivel 7):\n",
    "#   Proyecto integrador usando 'nivel7_dataset.csv':\n",
    "#     - Pregunta de investigación: \"¿Cuál es la probabilidad de un evento extremo (return < -X) en la próxima semana condicionado a señales tempranas (feature1..feature4), y cuál es el impacto causal de una intervención (treatment) en reducir esa probabilidad?\"\n",
    "#     - Pasos requeridos:\n",
    "#         1) EDA y limpieza; identificar y justificar umbral para extremos (POT).\n",
    "#         2) Ajustar GPD/POT para excedentes condicional en covariables (modelado condicional de cola).\n",
    "#         3) Estimar tail index (Hill) y verificar robustez por k.\n",
    "#         4) Modelar dependencia multivariante con copula y simular escenarios de cola.\n",
    "#         5) Diseñar análisis causal: construir propensity scores o IV/DiD si aplica; estimar efecto de treatment sobre probabilidad de extremo (ATE/CATE).\n",
    "#         6) Calcular VaR y ES condicionales y generar intervalos vía bootstrap/MCMC.\n",
    "#         7) Documentar todo el pipeline, guardar modelos y presentar resultados y recomendaciones en un notebook reproducible."
   ],
   "id": "6a0d38c189330849"
  },
  {
   "metadata": {},
   "cell_type": "code",
   "outputs": [],
   "execution_count": null,
   "source": "# NOTA: Para ejercicios que requieren librerías especializadas (GPyTorch, GPflow, Pyro, TensorFlow Probability, PyMC, DoWhy, zepid, causalml), incluye en un comentario el comando pip/conda para instalación si es necesario. No ejecutes instalaciones automáticamente.",
   "id": "52c8b64c669e768b"
  },
  {
   "metadata": {},
   "cell_type": "markdown",
   "source": [
    "# Título: Plantilla de prompt para pedir explicación de un ejercicio (Nivel 7 — Experto) — responde en español coloquial\n",
    "\n",
    "Prompt que debes enviar (pega tal cual y añade el ejercicio concreto al final):\n",
    "\n",
    "\"Hola, te paso este ejercicio: [PEGA AQUÍ EL TEXTO DEL EJERCICIO]. Quiero que me expliques en lenguaje coloquial lo siguiente:\n",
    "1. Conceptos teóricos avanzados relevantes para resolverlo (definición breve y cuándo/por qué usarlos).\n",
    "2. Las funciones, librerías y métodos principales de Python que me servirían para implementarlo (nombre exacto, librería y breve descripción; especifica parámetros clave).\n",
    "3. Si hay fórmulas implicadas (SDE discretización, Hill estimator, GPD log-likelihood, copula density, ADMM updates, etc.), explícame cada fórmula y qué representa cada símbolo, pero NO me des la solución numérica.\n",
    "4. Dame un pequeño ejemplo distinto (muy breve) que ilustre uno de los conceptos o funciones (por ejemplo: mini‑ejemplo de Hill estimator sobre 10 valores sintéticos), sin resolver el ejercicio.\n",
    "5. Al final dame una lista corta y práctica de pasos sugeridos para que yo lo intente (sin código detallado ni la solución completa).\n",
    "\n",
    "IMPORTANTE: No me des la solución del ejercicio ni el código final; solo conceptos, funciones, fórmulas y un mini-ejemplo aclaratorio. Responde en tono coloquial y con ejemplos que ayuden a entender.\"\n",
    "\n",
    "Modo de uso:\n",
    "- Pegar el prompt y reemplazar [PEGA AQUÍ EL TEXTO DEL EJERCICIO] por el enunciado exacto del ejercicio que quieres que te explique.\n",
    "- Enviar y recibirás una explicación estructurada en las 5 secciones solicitadas, en español coloquial."
   ],
   "id": "76171c9aaf38b9b5"
  }
 ],
 "metadata": {
  "kernelspec": {
   "display_name": "Python 3",
   "language": "python",
   "name": "python3"
  },
  "language_info": {
   "codemirror_mode": {
    "name": "ipython",
    "version": 2
   },
   "file_extension": ".py",
   "mimetype": "text/x-python",
   "name": "python",
   "nbconvert_exporter": "python",
   "pygments_lexer": "ipython2",
   "version": "2.7.6"
  }
 },
 "nbformat": 4,
 "nbformat_minor": 5
}
