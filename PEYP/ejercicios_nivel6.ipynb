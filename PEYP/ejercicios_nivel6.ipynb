{
 "cells": [
  {
   "metadata": {},
   "cell_type": "code",
   "outputs": [],
   "execution_count": null,
   "source": [
    "# Nivel 6 — Avanzado — Modelos complejos y análisis multivariante\n",
    "# 30 ejercicios prácticos (cada comentario es un ejercicio; copia/pega en tu notebook)\n",
    "#"
   ],
   "id": "7e860e83e9a12f61"
  },
  {
   "metadata": {},
   "cell_type": "raw",
   "source": [
    "# Ejercicio 01:\n",
    "#   Ajusta un GLM (statsmodels) tipo regresión logística para predecir 'purchased' usando variables numéricas y categóricas del dataset.\n",
    "#"
   ],
   "id": "3215a72a71c3288f"
  },
  {
   "metadata": {},
   "cell_type": "raw",
   "source": [
    "# Ejercicio 02:\n",
    "#   Ajusta un GLM Poisson para 'purchases_count' con un offset (log(visits) si procede). Evalúa goodness-of-fit y verifica overdispersion (dispersion > 1).\n",
    "#"
   ],
   "id": "70dc23a1c2b39885"
  },
  {
   "metadata": {},
   "cell_type": "raw",
   "source": [
    "# Ejercicio 03:\n",
    "#   Si hay overdispersion en ejercicio 02, ajusta un modelo NegBin (Negative Binomial) y compara AIC/BIC con el Poisson.\n",
    "#"
   ],
   "id": "2385501e289f2c3f"
  },
  {
   "metadata": {},
   "cell_type": "raw",
   "source": [
    "# Ejercicio 04:\n",
    "#   Ajusta un GLM Gamma para 'purchase_amount' (valores > 0) con link log. Compara resultados con OLS en escala log-transformada.\n",
    "#"
   ],
   "id": "ed6eeab8473ea9dd"
  },
  {
   "metadata": {},
   "cell_type": "raw",
   "source": [
    "# Ejercicio 05:\n",
    "#   Crea una serie temporal agregada: total daily sales (suma de purchase_amount por date). Grafícala y descompón en tendencia/estacionalidad/residuo.\n",
    "#"
   ],
   "id": "6ca2361ee8de2b8c"
  },
  {
   "metadata": {},
   "cell_type": "raw",
   "source": [
    "# Ejercicio 06:\n",
    "#   Realiza una prueba de estacionariedad (ADF) sobre la serie total daily sales; si no es estacionaria, diferencia y verifica de nuevo.\n",
    "#"
   ],
   "id": "8f1e457e0fd41245"
  },
  {
   "metadata": {},
   "cell_type": "raw",
   "source": [
    "# Ejercicio 07:\n",
    "#   Ajusta un modelo ARIMA( p,d,q ) (seleccionando p,q con AIC) sobre la serie diferencial si es necesario y produce forecast a 14 días con intervalos.\n",
    "#"
   ],
   "id": "e274a4f9f34b1c2e"
  },
  {
   "metadata": {},
   "cell_type": "raw",
   "source": [
    "# Ejercicio 08:\n",
    "#   Ajusta un modelo SARIMA para la serie si detectas estacionalidad (por ejemplo estacionalidad semanal). Compara errores de predicción con ARIMA simple.\n",
    "#"
   ],
   "id": "cca2c133c33abc32"
  },
  {
   "metadata": {},
   "cell_type": "raw",
   "source": [
    "# Ejercicio 09:\n",
    "#   Ajusta un modelo en espacio de estados (statsmodels.tsa.statespace) y aplica el filtro de Kalman para suavizado de la serie.\n",
    "#"
   ],
   "id": "805396dd6f63a0ec"
  },
  {
   "metadata": {},
   "cell_type": "raw",
   "source": [
    "# Ejercicio 10:\n",
    "#   Ajusta un modelo GARCH(1,1) para la volatilidad de las diferencias logarítmicas de daily sales (usa arch o sinta tu implementación).\n",
    "#"
   ],
   "id": "1d95244c2d8a427e"
  },
  {
   "metadata": {},
   "cell_type": "raw",
   "source": [
    "# Ejercicio 11:\n",
    "#   Realiza PCA sobre las variables numéricas (income, visits, session_time, clicks, feature1, feature2). Escala las variables antes. Interpreta componentes.\n",
    "#"
   ],
   "id": "99721af98f808d4d"
  },
  {
   "metadata": {},
   "cell_type": "raw",
   "source": [
    "# Ejercicio 12:\n",
    "#   Realiza un análisis factorial (factor analysis) y compara las cargas factoriales con los loadings de PCA.\n",
    "#"
   ],
   "id": "8a2884579b5231df"
  },
  {
   "metadata": {},
   "cell_type": "raw",
   "source": [
    "# Ejercicio 13:\n",
    "#   Aplica CCA (Canonical Correlation Analysis) entre dos grupos de variables: set X = [income, session_time, clicks] y set Y = [purchase_amount, purchases_count].\n",
    "#"
   ],
   "id": "f5e1ee11c5b22800"
  },
  {
   "metadata": {},
   "cell_type": "raw",
   "source": [
    "# Ejercicio 14:\n",
    "#   Realiza clustering: K-means sobre variables estandarizadas (elige k con elbow y silhouette). Grafica clusters en primeros 2 componentes PCA.\n",
    "#"
   ],
   "id": "1669e96e04fbd6ed"
  },
  {
   "metadata": {},
   "cell_type": "raw",
   "source": [
    "# Ejercicio 15:\n",
    "#   Ajusta un Gaussian Mixture Model (sklearn.mixture.GaussianMixture) y compara con K-means (log-likelihood vs inertia). Asigna probabilidades de pertenencia.\n",
    "#"
   ],
   "id": "e1cd3d1f384b7c2c"
  },
  {
   "metadata": {},
   "cell_type": "raw",
   "source": [
    "# Ejercicio 16:\n",
    "#   Realiza clustering jerárquico (agglomerative) y dibuja el dendrogram; corta el dendrogram para obtener grupos y compara con K-means/GMM.\n",
    "#"
   ],
   "id": "ecc0534ddb376603"
  },
  {
   "metadata": {},
   "cell_type": "raw",
   "source": [
    "# Ejercicio 17:\n",
    "#   Usa t-SNE y UMAP para proyectar las variables numéricas a 2D; visualiza y compara la separación de clusters obtenidos.\n",
    "#"
   ],
   "id": "4afbb60cc4d32ea1"
  },
  {
   "metadata": {},
   "cell_type": "raw",
   "source": [
    "# Ejercicio 18:\n",
    "#   Implementa validación de clusters: calcula silhouette, Calinski-Harabasz y Davies-Bouldin para comparar soluciones k.\n",
    "#"
   ],
   "id": "cce8ff91b62bbbb"
  },
  {
   "metadata": {},
   "cell_type": "raw",
   "source": [
    "# Ejercicio 19:\n",
    "#   Ajusta un modelo de supervivencia (Kaplan–Meier) usando 'time_to_churn' y 'churned' (event_observed). Grafica la curva KM por grupos (p.ej. by region).\n",
    "#"
   ],
   "id": "397cb271d452dabd"
  },
  {
   "metadata": {},
   "cell_type": "raw",
   "source": [
    "# Ejercicio 20:\n",
    "#   Ajusta un modelo de riesgos proporcionales de Cox (lifelines or statsmodels) para tiempo hasta churn con covariables; verifica el supuesto proporcional (Schoenfeld residuals).\n",
    "#"
   ],
   "id": "34152ac21dbf368"
  },
  {
   "metadata": {},
   "cell_type": "raw",
   "source": [
    "# Ejercicio 21:\n",
    "#   Ajusta un modelo de supervivencia paramétrico (Weibull o Exponential). Compara AIC con el modelo de Cox.\n",
    "#"
   ],
   "id": "6e6f37983a2f5d9a"
  },
  {
   "metadata": {},
   "cell_type": "raw",
   "source": [
    "# Ejercicio 22:\n",
    "#   Realiza suavizado no paramétrico: KDE para 'purchase_amount' por categoría y compara con histogramas; ajusta bandwidth y comenta efectos.\n",
    "#"
   ],
   "id": "681d82a76ee20cfc"
  },
  {
   "metadata": {},
   "cell_type": "raw",
   "source": [
    "# Ejercicio 23:\n",
    "#   Ajusta splines (p. ej. patsy bs() o sklearn SplineTransformer) en una regresión para modelar relación no lineal entre 'session_time' y 'purchase_amount'.\n",
    "#"
   ],
   "id": "29f57d7eff683ee"
  },
  {
   "metadata": {},
   "cell_type": "raw",
   "source": [
    "# Ejercicio 24:\n",
    "#   Usa LOESS/LOWESS para suavizar la relación entre 'visits' y 'purchase_amount' y grafica la curva ajustada sobre el scatter.\n",
    "#"
   ],
   "id": "243edb77a6064730"
  },
  {
   "metadata": {},
   "cell_type": "raw",
   "source": [
    "# Ejercicio 25:\n",
    "#   Implementa una validación temporal (time series cross-validation / rolling window) para evaluar un modelo de forecasting; muestra errores por ventana.\n",
    "#"
   ],
   "id": "fe303640c4c6a4f2"
  },
  {
   "metadata": {},
   "cell_type": "raw",
   "source": [
    "# Ejercicio 26:\n",
    "#   Realiza selección de modelos y comparación (AIC, BIC) entre varias especificaciones GLM (diferentes sets de predictores y link functions).\n",
    "#"
   ],
   "id": "ae79edd7c45ef7eb"
  },
  {
   "metadata": {},
   "cell_type": "raw",
   "source": [
    "# Ejercicio 27:\n",
    "#   Investiga colinealidad: calcula la matriz de correlación y VIF; resuelve colinealidad aplicando PCA y ajustando un modelo con componentes principales.\n",
    "#"
   ],
   "id": "5aca87ce256f9801"
  },
  {
   "metadata": {},
   "cell_type": "raw",
   "source": [
    "# Ejercicio 28:\n",
    "#   Implementa una pipeline (scikit-learn) que haga: imputación -> scaling -> selección de variables (SelectFromModel) -> estimador (Regresión/GLM). Usa GridSearchCV para optimizar hiperparámetros.\n",
    "#"
   ],
   "id": "432ddf108d9c7189"
  },
  {
   "metadata": {},
   "cell_type": "raw",
   "source": [
    "# Ejercicio 29:\n",
    "#   Implementa Gaussian Mixture con covarianza completa y luego restringida (tied/diag). Compara BIC para escoger la parametrización adecuada.\n",
    "#"
   ],
   "id": "84f165c49fa9a308"
  },
  {
   "metadata": {},
   "cell_type": "raw",
   "source": [
    "# Ejercicio 30:\n",
    "#   Genera visualizaciones interactivas (plotly/bokeh) para explorar multivariante: scatter matrix interactivo, heatmap de correlaciones y dashboard simple con filtros por región.\n",
    "#"
   ],
   "id": "430de04dd372d69e"
  },
  {
   "metadata": {},
   "cell_type": "raw",
   "source": [
    "# Ejercicio 31 (Integrador — abarca subtemas del Nivel 6):\n",
    "#   Usando 'nivel6_dataset.csv':\n",
    "#     - Limpia y prepara datos; crea variables agregadas (daily store sales, sales per visit, log-transformaciones).\n",
    "#     - Ajusta un GLM (logistic) para conversion, un GLM Poisson/NB para conteos y un ARIMA/SARIMA para la serie agregada de ventas.\n",
    "#     - Realiza PCA sobre features numéricos y usa las 2 primeras componentes como entradas para un clustering (GMM).\n",
    "#     - Ajusta un modelo de Cox para tiempo hasta churn e interpreta coeficientes.\n",
    "#     - Implementa validación temporal para el forecasting y cross-val para los modelos de predicción.\n",
    "#     - Resume hallazgos en un informe (Markdown) y guarda modelos/artefactos (pickle/joblib). Incluye gráficas y explicación de decisiones (por qué usar NB, por qué usar SARIMA, etc.)."
   ],
   "id": "2080e61921796630"
  },
  {
   "metadata": {},
   "cell_type": "markdown",
   "source": [
    "# Plantilla: guía para modelos complejos (Nivel 6)\n",
    "Pega el ejercicio y recibirás una guía práctica en 5 puntos centrada en modelado multivariante.\n",
    "\n",
    "Prompt (reemplaza [ENUNCIADO]):\n",
    "\"Hola, te paso este ejercicio: [ENUNCIADO]. Quiero:\n",
    "1) Conceptos técnicos relevantes (PCA, ARIMA, GLM, GARCH...).\n",
    "2) Funciones/librerías recomendadas (statsmodels, sklearn, lifelines...).\n",
    "3) Fórmulas/métricas implicadas explicadas (AIC, VIF, hazard ratio).\n",
    "4) Mini‑ejemplo distinto que ilustre un concepto.\n",
    "5) Pasos prácticos sugeridos (sin código final).\"\n",
    "\n",
    "Respuesta: guía técnica concisa, no código listo.\n"
   ],
   "id": "b17d53deb296692d"
  }
 ],
 "metadata": {
  "kernelspec": {
   "display_name": "Python 3",
   "language": "python",
   "name": "python3"
  },
  "language_info": {
   "codemirror_mode": {
    "name": "ipython",
    "version": 2
   },
   "file_extension": ".py",
   "mimetype": "text/x-python",
   "name": "python",
   "nbconvert_exporter": "python",
   "pygments_lexer": "ipython2",
   "version": "2.7.6"
  }
 },
 "nbformat": 4,
 "nbformat_minor": 5
}
