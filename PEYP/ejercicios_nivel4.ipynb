{
 "cells": [
  {
   "metadata": {},
   "cell_type": "code",
   "outputs": [],
   "execution_count": null,
   "source": [
    "# Nivel 4 — Intermedio-Avanzado — Probabilidad avanzada y simulación\n",
    "# 30 ejercicios prácticos (cada comentario es un ejercicio; copia/pega en tu notebook)"
   ],
   "id": "45a9dd0d31682452"
  },
  {
   "metadata": {},
   "cell_type": "raw",
   "source": [
    "# Ejercicio 01:\n",
    "#   Calcula la esperanza condicional E[X | Y=y] para una muestra del dataset (usa columnas 'clicks' como X y una categórica como Y=category)."
   ],
   "id": "17628e84b1cb15c8"
  },
  {
   "metadata": {},
   "cell_type": "raw",
   "source": [
    "# Ejercicio 02:\n",
    "#   Estima la función generadora de momentos (MGF) empírica de 'session_time' y compárala con la MGF teórica de una normal con los mismos parámetros."
   ],
   "id": "f5fedc21ee1db0e1"
  },
  {
   "metadata": {},
   "cell_type": "raw",
   "source": [
    "# Ejercicio 03:\n",
    "#   Calcula la función característica empírica de 'purchase_amount' (E[e^{itX}]) para una rejilla de t y grafíquela (parte real e imaginaria)."
   ],
   "id": "73206a26d658ff0c"
  },
  {
   "metadata": {},
   "cell_type": "raw",
   "source": [
    "# Ejercicio 04:\n",
    "#   Verifica la Ley de los Grandes Números simulando medias muestrales de una distribución con varianza finita (ej: exponencial) y mostrando convergencia."
   ],
   "id": "abd0a3477c26c6e8"
  },
  {
   "metadata": {},
   "cell_type": "raw",
   "source": [
    "# Ejercicio 05:\n",
    "#   Demuestra el Teorema del Límite Central: toma sumas de n=30, 50, 100 variables iid exponenciales y compara la distribución de medias con la normal."
   ],
   "id": "dd4a42ad06fb772c"
  },
  {
   "metadata": {},
   "cell_type": "raw",
   "source": [
    "# Ejercicio 06:\n",
    "#   Dada una transformación Y = g(X) con g(x)=log(1+x) y X ~ Gamma (parámetros empíricos), estima la densidad de Y por simulación y por transformación analítica (si procede)."
   ],
   "id": "73699144c6e336ee"
  },
  {
   "metadata": {},
   "cell_type": "raw",
   "source": [
    "# Ejercicio 07:\n",
    "#   Calcula la convolución numérica (via FFT) de la distribución de 'purchases_count' con sí misma (suma de dos variables iid) y grafícala."
   ],
   "id": "cc2388a42d370548"
  },
  {
   "metadata": {},
   "cell_type": "raw",
   "source": [
    "# Ejercicio 08:\n",
    "#   Estima la esperanza condicional iterativamente: implementa una función que calcule E[X | bucket_age] para buckets de edad y grafique el resultado."
   ],
   "id": "d625889406d417b7"
  },
  {
   "metadata": {},
   "cell_type": "raw",
   "source": [
    "# Ejercicio 09:\n",
    "#   A partir de las cadenas de estados por visita en la columna 'visit_states', estima la matriz de transición empírica de un proceso de Markov de orden 1."
   ],
   "id": "bd87471f94a0c14c"
  },
  {
   "metadata": {},
   "cell_type": "raw",
   "source": [
    "# Ejercicio 10:\n",
    "#   Calcula la distribución estacionaria (steady-state) de la matriz de transición estimada y verifica por simulación de cadenas que coincide."
   ],
   "id": "d262962679f0b396"
  },
  {
   "metadata": {},
   "cell_type": "raw",
   "source": [
    "# Ejercicio 11:\n",
    "#   Simula 1000 trayectorias de longitud 100 de la cadena de Markov estimada y calcula la distribución de tiempos de primera llegada (hitting time) al estado 'C'."
   ],
   "id": "98172d6f47000826"
  },
  {
   "metadata": {},
   "cell_type": "raw",
   "source": [
    "# Ejercicio 12:\n",
    "#   Estima la tasa lambda de un proceso de Poisson a partir de la columna 'total_events' y calcula probabilidad P(N(7 días) >= k) para varios k."
   ],
   "id": "f9554cf665446222"
  },
  {
   "metadata": {},
   "cell_type": "raw",
   "source": [
    "# Ejercicio 13:\n",
    "#   Simula un proceso de Poisson no homogéneo con tasa λ(t)=a + b*sin(2π t / 24) (ej: tasa horaria) y grafica realizaciones y conteos en ventanas."
   ],
   "id": "af25f50845a48547"
  },
  {
   "metadata": {},
   "cell_type": "raw",
   "source": [
    "# Ejercicio 14:\n",
    "#   Implementa un proceso de renovación con interarrivals log-normales (parámetros empíricos) y compara la distribución del número de eventos en T con la aproximación por Poisson."
   ],
   "id": "24877b943fde5b14"
  },
  {
   "metadata": {},
   "cell_type": "raw",
   "source": [
    "# Ejercicio 15:\n",
    "#   Implementa importance sampling para estimar la probabilidad rara P(Sum of 10 exponentials > threshold) y compara la varianza del estimador con MC estándar."
   ],
   "id": "3e761a989f5d546a"
  },
  {
   "metadata": {},
   "cell_type": "raw",
   "source": [
    "# Ejercicio 16:\n",
    "#   Implementa antithetic variates para estimar E[h(X)] (elige h(x)=indicator(sum>c)) y compara varianzas con y sin antithetic."
   ],
   "id": "6347995e933f4ee6"
  },
  {
   "metadata": {},
   "cell_type": "raw",
   "source": [
    "# Ejercicio 17:\n",
    "#   Implementa control variates: usa como control la suma de medias teóricas para reducir la varianza de una estimación Monte Carlo."
   ],
   "id": "f56971efedb477ba"
  },
  {
   "metadata": {},
   "cell_type": "raw",
   "source": [
    "# Ejercicio 18:\n",
    "#   Implementa muestreo estratificado para estimar la media de 'purchase_amount' dividiendo por 'category' como estratos; compara con muestreo simple."
   ],
   "id": "35152b07ed8f2e93"
  },
  {
   "metadata": {},
   "cell_type": "raw",
   "source": [
    "# Ejercicio 19:\n",
    "#   Usa bootstrap (con 2000 réplicas) para estimar la varianza de un estimador Monte Carlo (por ejemplo probabilidad de conversión empírica)."
   ],
   "id": "9d90b3493fe24697"
  },
  {
   "metadata": {},
   "cell_type": "raw",
   "source": [
    "# Ejercicio 20:\n",
    "#   Implementa Metropolis-Hastings para muestrear de una distribución objetivo bimodal (mezcla de dos normales). Grafica el histograma de muestras."
   ],
   "id": "a75c6540597fb023"
  },
  {
   "metadata": {},
   "cell_type": "raw",
   "source": [
    "# Ejercicio 21:\n",
    "#   Implementa Gibbs sampling para un modelo bivariante simple (por ejemplo, X|Y ~ Normal(...), Y|X ~ Normal(...)) y verifica convergencia."
   ],
   "id": "90976ca084b5a956"
  },
  {
   "metadata": {},
   "cell_type": "raw",
   "source": [
    "# Ejercicio 22:\n",
    "#   Calcula diagnósticos de MCMC: traza, autocorrelación, R-hat y ESS para la cadena del ejercicio anterior."
   ],
   "id": "1c0f2309bd95a3f"
  },
  {
   "metadata": {},
   "cell_type": "raw",
   "source": [
    "# Ejercicio 23:\n",
    "#   Compara generadores: usa numpy.random.default_rng() vs np.random.RandomState() para una integral por MC (estimación de E[X]) y compara reproducibilidad."
   ],
   "id": "42f5bebf31ebb33c"
  },
  {
   "metadata": {},
   "cell_type": "raw",
   "source": [
    "# Ejercicio 24:\n",
    "#   Implementa una integración por Monte Carlo usando secuencias quasi-random (Sobol o Halton) y compara velocidad de convergencia con MC pseudoaleatorio."
   ],
   "id": "229e988d10a9d643"
  },
  {
   "metadata": {},
   "cell_type": "raw",
   "source": [
    "# Ejercicio 25:\n",
    "#   Simula una ecuación diferencial estocástica simple con Euler–Maruyama: dX_t = mu X_t dt + sigma X_t dW_t (GBM). Grafica algunas trayectorias."
   ],
   "id": "87b9e15ecfde42c9"
  },
  {
   "metadata": {},
   "cell_type": "raw",
   "source": [
    "# Ejercicio 26:\n",
    "#   Estima por simulación la probabilidad de que una GBM supere un umbral H en tiempo T (hitting probability) y calcula IC por bootstrap."
   ],
   "id": "8886bc58e0e0d0e3"
  },
  {
   "metadata": {},
   "cell_type": "raw",
   "source": [
    "# Ejercicio 27:\n",
    "#   Simula movimiento Browniano y calcula la distribución empírica del máximo sup_{t∈[0,T]} B_t; compara con resultados teóricos aproximados."
   ],
   "id": "b666221ec7bc7d2a"
  },
  {
   "metadata": {},
   "cell_type": "raw",
   "source": [
    "# Ejercicio 28:\n",
    "#   Simula una cola M/M/1 (arrivals Poisson rate λ, servicio exponencial μ) y calcula el tiempo promedio en sistema y la longitud promedio de la cola; compáralo con fórmulas teóricas."
   ],
   "id": "f85a819774605451"
  },
  {
   "metadata": {},
   "cell_type": "raw",
   "source": [
    "# Ejercicio 29:\n",
    "#   Implementa un experimento de Monte Carlo reproducible: crea una función que, con semilla, ejecute N simulaciones de un estimador y devuelva media, varianza y tiempos."
   ],
   "id": "ca8153c916ee4f02"
  },
  {
   "metadata": {},
   "cell_type": "raw",
   "source": [
    "# Ejercicio 30:\n",
    "#   Automatiza la comparación de técnicas de reducción de varianza (importance sampling, control variates, antithetic) en un único script y produce una tabla con varianzas relativas."
   ],
   "id": "f3b9db732fd4eaac"
  },
  {
   "metadata": {},
   "cell_type": "raw",
   "source": [
    "# Ejercicio 31 (Integrador — abarca subtemas del Nivel 4):\n",
    "#   Proyecto integrador usando 'nivel4_dataset.csv':\n",
    "#     - Pregunta de negocio: estimar la probabilidad rara de que, en una semana, el número total de events > T dado que el día anterior estuvo en estado 'C'.\n",
    "#     - Estima parámetros: tasa lambda empírica por día, matriz de transición de estados y parámetros de interarrival.\n",
    "#     - Implementa una simulación compuesta que:\n",
    "#         a) simule la cadena de Markov del estado diario para 7 días,\n",
    "#         b) condicione la generación de eventos diarias en la tasa λ(state, t),\n",
    "#         c) use importance sampling para estimar la probabilidad rara solicitada,\n",
    "#         d) compute bootstrap CI del estimador,\n",
    "#         e) compare varianza con un estimador por MC estándar y reporta reducción de varianza.\n",
    "#     - Documenta el pipeline, guarda resultados y semillas, y explica en Markdown las decisiones (por qué IS elegido, cómo se calibró la propuesta, etc.)."
   ],
   "id": "9dd87dd719d6775f"
  },
  {
   "metadata": {},
   "cell_type": "markdown",
   "source": [
    "# Plantilla: explicación para simulación y probabilidad (Nivel 4)\n",
    "Pega el ejercicio y recibirás una guía práctica en 5 puntos, orientada a simulación y técnicas avanzadas.\n",
    "\n",
    "Prompt (reemplaza [ENUNCIADO]):\n",
    "\"Hola, te paso este ejercicio: [ENUNCIADO]. Quiero:\n",
    "1) Conceptos avanzados relevantes (MGF, CLT, IS, etc.).\n",
    "2) Funciones/librerías útiles (qué usar y por qué).\n",
    "3) Fórmulas clave explicadas simbólicamente.\n",
    "4) Mini‑ejemplo distinto que aclare un paso.\n",
    "5) Pasos prácticos para implementarlo.\"\n",
    "\n",
    "Se dará orientación técnica sin entregar la solución final ni código completo.\n"
   ],
   "id": "b371f98f94d02020"
  }
 ],
 "metadata": {
  "kernelspec": {
   "display_name": "Python 3",
   "language": "python",
   "name": "python3"
  },
  "language_info": {
   "codemirror_mode": {
    "name": "ipython",
    "version": 2
   },
   "file_extension": ".py",
   "mimetype": "text/x-python",
   "name": "python",
   "nbconvert_exporter": "python",
   "pygments_lexer": "ipython2",
   "version": "2.7.6"
  }
 },
 "nbformat": 4,
 "nbformat_minor": 5
}
