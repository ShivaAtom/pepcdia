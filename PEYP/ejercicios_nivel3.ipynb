{
 "cells": [
  {
   "metadata": {},
   "cell_type": "code",
   "outputs": [],
   "execution_count": null,
   "source": [
    "# Nivel 3 — Intermedio — Inferencia estadística y modelos básicos\n",
    "# 30 ejercicios prácticos (cada comentario es un ejercicio; copia/pega en tu notebook)"
   ],
   "id": "1217ce256c573b47"
  },
  {
   "metadata": {},
   "cell_type": "raw",
   "source": [
    "# Ejercicio 01:\n",
    "#   Calcula el tamaño de muestra necesario para estimar una proporción con margen de error 0.03 y confianza 95%."
   ],
   "id": "8333795dadac8d73"
  },
  {
   "metadata": {},
   "cell_type": "code",
   "outputs": [],
   "execution_count": null,
   "source": [
    "# Ejercicio 02:\n",
    "#   A partir de 'nivel3_dataset.csv', estima la proporción de usuarios convertidos y su intervalo de confianza al 95% (aprox. normal y método exacto)."
   ],
   "id": "21b1792d167ed191"
  },
  {
   "metadata": {},
   "cell_type": "raw",
   "source": [
    "# Ejercicio 03:\n",
    "#   Calcula el intervalo de confianza al 95% para la media de 'purchase_amount' usando la t-distribution."
   ],
   "id": "f7add383730baa67"
  },
  {
   "metadata": {},
   "cell_type": "raw",
   "source": [
    "# Ejercicio 04:\n",
    "#   Realiza una prueba de hipótesis (dos colas) para comparar la media de 'session_time' contra un valor poblacional (por ejemplo 30 min). Reporta estadístico t y p-valor."
   ],
   "id": "47b84d56172b3c23"
  },
  {
   "metadata": {},
   "cell_type": "raw",
   "source": [
    "# Ejercicio 05:\n",
    "#   Compara, mediante una prueba de proporciones (z-test), la tasa de conversión entre usuarios que recibieron oferta (treatment == True) y los que no."
   ],
   "id": "6076ea5e33ed407"
  },
  {
   "metadata": {},
   "cell_type": "raw",
   "source": [
    "# Ejercicio 06:\n",
    "#   Construye una tabla de contingencia entre 'treatment' y 'converted' y realiza la prueba chi-cuadrado de independencia."
   ],
   "id": "8f3f548abd1c97dc"
  },
  {
   "metadata": {},
   "cell_type": "raw",
   "source": [
    "# Ejercicio 07:\n",
    "#   Realiza una prueba t independiente (Student) para comparar 'purchase_amount' entre dos grupos (por ejemplo group == 'A' vs group == 'B'); verifica supuestos con pruebas de normalidad y Levene para varianzas."
   ],
   "id": "a6fcb935f433b893"
  },
  {
   "metadata": {},
   "cell_type": "raw",
   "source": [
    "# Ejercicio 08:\n",
    "#   Si los supuestos no se cumplen, realiza la alternativa no paramétrica (Mann–Whitney U) para el mismo contraste del ejercicio anterior."
   ],
   "id": "cbcf3544e1b94bc"
  },
  {
   "metadata": {},
   "cell_type": "raw",
   "source": [
    "# Ejercicio 09:\n",
    "#   Realiza ANOVA de un factor para comparar 'purchase_amount' entre las categorías group A, B y C; interpreta el resultado y aplica Tukey HSD como post-hoc si corresponde."
   ],
   "id": "c822085b65628603"
  },
  {
   "metadata": {},
   "cell_type": "raw",
   "source": [
    "# Ejercicio 10:\n",
    "#   Fija seed y realiza bootstrap (1000 replicaciones) para estimar el CI 95% de la diferencia de medias entre grupos A y B."
   ],
   "id": "e2cbc92697dd92ad"
  },
  {
   "metadata": {},
   "cell_type": "raw",
   "source": [
    "# Ejercicio 11:\n",
    "#   Realiza un análisis de potencia (power analysis) para una prueba t: calcula la potencia dada la diferencia de medias observada, n y alpha=0.05."
   ],
   "id": "53d4703b918af794"
  },
  {
   "metadata": {},
   "cell_type": "raw",
   "source": [
    "# Ejercicio 12:\n",
    "#   Ajusta una regresión lineal simple con statsmodels: 'purchase_amount' ~ 'visits'. Reporta coeficiente, IC 95% y p-valor."
   ],
   "id": "7772a85ca9db65f0"
  },
  {
   "metadata": {},
   "cell_type": "raw",
   "source": [
    "# Ejercicio 13:\n",
    "#   Añade variables predictoras a la regresión (edad, income, session_time) y ajusta regresión múltiple. Interpreta coeficientes y R-squared."
   ],
   "id": "255cb467cc150656"
  },
  {
   "metadata": {},
   "cell_type": "raw",
   "source": [
    "# Ejercicio 14:\n",
    "#   Revisa supuestos de la regresión múltiple: normalidad de residuos (Shapiro), homocedasticidad (Breusch-Pagan), autocorrelación (Durbin-Watson)."
   ],
   "id": "c212b1fb2a056f9"
  },
  {
   "metadata": {},
   "cell_type": "raw",
   "source": [
    "# Ejercicio 15:\n",
    "#   Calcula VIF para las variables independientes y comenta sobre multicolinealidad. Si hay VIF alto (>5), propone solución."
   ],
   "id": "ff0cc150ba251ede"
  },
  {
   "metadata": {},
   "cell_type": "raw",
   "source": [
    "# Ejercicio 16:\n",
    "#   Ajusta un modelo de regresión logística (sklearn/statsmodels) para predecir 'converted' usando features seleccionadas. Muestra matriz de confusión y AUC."
   ],
   "id": "3f0485f1491e4a62"
  },
  {
   "metadata": {},
   "cell_type": "raw",
   "source": [
    "# Ejercicio 17:\n",
    "#   Interpreta los coeficientes del modelo logístico en términos de odds ratio (exp(beta)). Calcula intervalos de confianza para los OR."
   ],
   "id": "39dce260e0c97d49"
  },
  {
   "metadata": {},
   "cell_type": "raw",
   "source": [
    "# Ejercicio 18:\n",
    "#   Realiza validación cruzada (k=5) para la regresión logística y reporta la media y desviación estándar del AUC."
   ],
   "id": "28fd1ef94dbf24e"
  },
  {
   "metadata": {},
   "cell_type": "raw",
   "source": [
    "# Ejercicio 19:\n",
    "#   Aplica regularización: ajusta Ridge y Lasso (sklearn) sobre el mismo problema de regresión (predicción continua o clasificación con logistic); compara coeficientes y desempeño."
   ],
   "id": "550af906402751ab"
  },
  {
   "metadata": {},
   "cell_type": "raw",
   "source": [
    "# Ejercicio 20:\n",
    "#   Implementa selección de variables con forward/backward (o selección por L1) y compara el modelo resultante con el modelo completo."
   ],
   "id": "df040710fed07fab"
  },
  {
   "metadata": {},
   "cell_type": "raw",
   "source": [
    "# Ejercicio 21:\n",
    "#   Realiza una prueba de bondad de ajuste (por ejemplo Kolmogorov-Smirnov) para comprobar si 'session_time' sigue una distribución normal (usando parámetros empíricos)."
   ],
   "id": "bb44064ebd233e20"
  },
  {
   "metadata": {},
   "cell_type": "raw",
   "source": [
    "# Ejercicio 22:\n",
    "#   Ajusta un modelo Poisson para 'purchases_count' (GLM) y verifica si hay overdispersion; si existe, ajusta un modelo negativo binomial (statsmodels/GAM/other)."
   ],
   "id": "290b89403a80001e"
  },
  {
   "metadata": {},
   "cell_type": "raw",
   "source": [
    "# Ejercicio 23:\n",
    "#   Realiza una regresión logística con interacción entre 'treatment' y 'group' y analiza si la interacción es significativa."
   ],
   "id": "bd924b6806aa4c80"
  },
  {
   "metadata": {},
   "cell_type": "raw",
   "source": [
    "# Ejercicio 24:\n",
    "#   Implementa un test de permutaciones para la diferencia de medias entre treatment vs control (10000 permutaciones). Reporta p-valor empírico."
   ],
   "id": "b5d3990cbd4e32bb"
  },
  {
   "metadata": {},
   "cell_type": "raw",
   "source": [
    "# Ejercicio 25:\n",
    "#   Calcula el efecto del outlier: detecta outliers en 'purchase_amount' (criterio IQR) y compara los coeficientes de una regresión antes y después de remover outliers."
   ],
   "id": "30ece430778d9b97"
  },
  {
   "metadata": {},
   "cell_type": "raw",
   "source": [
    "# Ejercicio 26:\n",
    "#   Ajusta una regresión robusta (RLM en statsmodels) para 'purchase_amount' vs 'visits' y compara con OLS."
   ],
   "id": "62cb8b1d842bac62"
  },
  {
   "metadata": {},
   "cell_type": "raw",
   "source": [
    "# Ejercicio 27:\n",
    "#   Divide el dataset en train/validation/test (60/20/20). Ajusta un pipeline con preprocessing (imputación, scaling, one-hot) y un modelo (regresión/ clasificación). Evalúa en test."
   ],
   "id": "6a62a4aa15bf408e"
  },
  {
   "metadata": {},
   "cell_type": "raw",
   "source": [
    "# Ejercicio 28:\n",
    "#   Crea una función que automatice: dado un DataFrame y una variable objetivo continua, devuelva resumen de regresión OLS (coef, std err, t, p, R2) y diagnóstico de residuos simples."
   ],
   "id": "5ef498a76fa5291a"
  },
  {
   "metadata": {},
   "cell_type": "raw",
   "source": [
    "# Ejercicio 29:\n",
    "#   Implementa y compara tres métodos de imputación para 'income' con valores faltantes: mean, median, KNNImputer; compara impacto en el RMSE de un modelo predictivo."
   ],
   "id": "9fcb7e44ab40faf6"
  },
  {
   "metadata": {},
   "cell_type": "raw",
   "source": [
    "# Ejercicio 30:\n",
    "#   Genera reportes resumidos (p. ej. con pandas-profiling o sweetviz) del dataset y exporta un HTML con hallazgos principales."
   ],
   "id": "7b3f2024855df336"
  },
  {
   "metadata": {},
   "cell_type": "raw",
   "source": [
    "# Ejercicio 31 (Integrador — abarca subtemas del Nivel 3):\n",
    "#   Usando 'nivel3_dataset.csv':\n",
    "#     - Define una pregunta de negocio clara (p.ej: \"¿mejora la conversión el tratamiento A respecto al control?\").\n",
    "#     - Realiza limpieza y EDA completa.\n",
    "#     - Calcula probabilidades, ICs y realiza pruebas de hipótesis pertinentes (proporciones, t-tests, chi2).\n",
    "#     - Ajusta modelos (al menos: OLS y logit), revisa supuestos, calcula VIF y realiza selección de variables.\n",
    "#     - Realiza validación (cross-val o split) y reporta métricas principales.\n",
    "#     - Implementa bootstrap o permutación para corroborar uno de los p-valores.\n",
    "#     - Documenta el proceso en Markdown y exporta resultados y modelos (pickle/joblib)."
   ],
   "id": "4583c47d3fb2ad6e"
  },
  {
   "metadata": {},
   "cell_type": "markdown",
   "source": [
    "# Plantilla: pedir guía sobre inferencia y tests (Nivel 3)\n",
    "Pega el enunciado y recibirás una explicación estructurada en 5 puntos, clara y práctica.\n",
    "\n",
    "Prompt (reemplaza [ENUNCIADO]):\n",
    "\"Hola, te paso este ejercicio: [ENUNCIADO]. Explícame:\n",
    "1) Conceptos de inferencia relevantes.\n",
    "2) Funciones/librerías recomendadas (qué hacen).\n",
    "3) Fórmulas/estadísticos implicados (explicar símbolos).\n",
    "4) Mini‑ejemplo distinto que ilustre un concepto.\n",
    "5) Pasos prácticos sugeridos para implementarlo.\"\n",
    "\n",
    "La respuesta será guía, no solución completa ni código listo.\n"
   ],
   "id": "4b10c869bbca0e77"
  }
 ],
 "metadata": {
  "kernelspec": {
   "display_name": "Python 3",
   "language": "python",
   "name": "python3"
  },
  "language_info": {
   "codemirror_mode": {
    "name": "ipython",
    "version": 2
   },
   "file_extension": ".py",
   "mimetype": "text/x-python",
   "name": "python",
   "nbconvert_exporter": "python",
   "pygments_lexer": "ipython2",
   "version": "2.7.6"
  }
 },
 "nbformat": 4,
 "nbformat_minor": 5
}
